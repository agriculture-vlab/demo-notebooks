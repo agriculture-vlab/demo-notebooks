{
 "cells": [
  {
   "cell_type": "markdown",
   "id": "3b6758c1-70ca-4976-a487-2091b0871210",
   "metadata": {},
   "source": [
    "# AVL Demo notebook 1: xcube data stores"
   ]
  },
  {
   "cell_type": "code",
   "execution_count": null,
   "id": "97e321bb-3714-4066-b7eb-e750a31d96fd",
   "metadata": {},
   "outputs": [],
   "source": []
  }
 ],
 "metadata": {
  "kernelspec": {
   "display_name": "Python 3 (ipykernel)",
   "language": "python",
   "name": "python3"
  },
  "language_info": {
   "codemirror_mode": {
    "name": "ipython",
    "version": 3
   },
   "file_extension": ".py",
   "mimetype": "text/x-python",
   "name": "python",
   "nbconvert_exporter": "python",
   "pygments_lexer": "ipython3",
   "version": "3.9.7"
  }
 },
 "nbformat": 4,
 "nbformat_minor": 5
}
