{
 "cells": [
  {
   "cell_type": "markdown",
   "id": "11275e63-251d-4edb-a060-ab71e12cde27",
   "metadata": {},
   "source": [
    "# AVL demo notebook 2: working with raster data"
   ]
  },
  {
   "cell_type": "code",
   "execution_count": null,
   "id": "631b8d35-8f94-4917-8986-08dc287dff16",
   "metadata": {},
   "outputs": [],
   "source": []
  }
 ],
 "metadata": {
  "kernelspec": {
   "display_name": "Python 3 (ipykernel)",
   "language": "python",
   "name": "python3"
  },
  "language_info": {
   "codemirror_mode": {
    "name": "ipython",
    "version": 3
   },
   "file_extension": ".py",
   "mimetype": "text/x-python",
   "name": "python",
   "nbconvert_exporter": "python",
   "pygments_lexer": "ipython3",
   "version": "3.9.7"
  }
 },
 "nbformat": 4,
 "nbformat_minor": 5
}
