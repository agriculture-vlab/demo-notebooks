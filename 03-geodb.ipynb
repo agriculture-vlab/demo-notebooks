{
 "cells": [
  {
   "cell_type": "markdown",
   "id": "24f1500c-51f2-4d0a-83fa-7aad1d42327e",
   "metadata": {},
   "source": [
    "# AVL demo notebook 3: geoDB and vector data"
   ]
  },
  {
   "cell_type": "code",
   "execution_count": null,
   "id": "2cf833ea-23a8-484b-96c6-9c45fb53d574",
   "metadata": {},
   "outputs": [],
   "source": []
  }
 ],
 "metadata": {
  "kernelspec": {
   "display_name": "Python 3 (ipykernel)",
   "language": "python",
   "name": "python3"
  },
  "language_info": {
   "codemirror_mode": {
    "name": "ipython",
    "version": 3
   },
   "file_extension": ".py",
   "mimetype": "text/x-python",
   "name": "python",
   "nbconvert_exporter": "python",
   "pygments_lexer": "ipython3",
   "version": "3.9.7"
  }
 },
 "nbformat": 4,
 "nbformat_minor": 5
}
